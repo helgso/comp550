{
 "cells": [
  {
   "cell_type": "markdown",
   "metadata": {},
   "source": [
    "# Assignment 1 solution"
   ]
  },
  {
   "cell_type": "code",
   "execution_count": 13,
   "metadata": {},
   "outputs": [],
   "source": [
    "from nltk import word_tokenize, FreqDist"
   ]
  },
  {
   "cell_type": "code",
   "execution_count": 8,
   "metadata": {},
   "outputs": [],
   "source": [
    "data_folder = 'E:/Repos/comp550/assignment1/data'\n",
    "positives_file = 'rt-polarity.pos'\n",
    "negatives_file = 'rt-polarity.neg'\n",
    "\n",
    "def read_lines(file_path):\n",
    "    with open(f'{data_folder}/{positives_file}', 'r') as file_handler:\n",
    "        return file_handler.readlines()\n",
    "\n",
    "positives_data = read_lines(f'{data_folder}/{positives_file}')\n",
    "negatives_data = read_lines(f'{data_folder}/{positives_file}')\n",
    "all_text = \" \".join(positives_data) + \" \".join(negatives_data)"
   ]
  },
  {
   "cell_type": "code",
   "execution_count": 16,
   "metadata": {},
   "outputs": [],
   "source": [
    "all_text_freq_dist = FreqDist(word_tokenize(all_text))"
   ]
  },
  {
   "cell_type": "code",
   "execution_count": 17,
   "metadata": {},
   "outputs": [
    {
     "name": "stdout",
     "output_type": "stream",
     "text": [
      "[('.', 13944), (',', 10536), ('the', 10120), ('a', 7690), ('and', 7106), ('of', 6622), ('to', 3940), (\"'s\", 3626), ('is', 3550), ('it', 3348), ('that', 2714), ('in', 2678), ('film', 1798), ('with', 1766), ('as', 1760), ('but', 1568), ('an', 1512), ('its', 1400), ('for', 1348), ('this', 1334)]\n"
     ]
    }
   ],
   "source": [
    "print(all_text_freq_dist.most_common(20))"
   ]
  },
  {
   "cell_type": "code",
   "execution_count": null,
   "metadata": {},
   "outputs": [],
   "source": []
  }
 ],
 "metadata": {
  "kernelspec": {
   "display_name": "comp 550",
   "language": "python",
   "name": "venv"
  },
  "language_info": {
   "codemirror_mode": {
    "name": "ipython",
    "version": 3
   },
   "file_extension": ".py",
   "mimetype": "text/x-python",
   "name": "python",
   "nbconvert_exporter": "python",
   "pygments_lexer": "ipython3",
   "version": "3.7.6"
  }
 },
 "nbformat": 4,
 "nbformat_minor": 4
}
