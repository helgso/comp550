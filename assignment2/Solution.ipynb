{
 "cells": [
  {
   "cell_type": "markdown",
   "metadata": {},
   "source": [
    "# Programming assignment 2\n",
    "\n",
    "WordNet interface documentation: https://www.nltk.org/howto/wordnet.html"
   ]
  },
  {
   "cell_type": "code",
   "execution_count": 1,
   "metadata": {},
   "outputs": [],
   "source": [
    "from nltk.corpus import wordnet\n",
    "from nltk.corpus import wordnet as wn\n",
    "\n",
    "from nltk.wsd import lesk\n",
    "\n",
    "assert wn.get_version() == '3.0'"
   ]
  },
  {
   "cell_type": "code",
   "execution_count": null,
   "metadata": {},
   "outputs": [],
   "source": [
    "# Load dataset using loader.py\n",
    "# Apply word tokenization\n",
    "# Apply word lemmatization\n",
    "# Remove stop words\n",
    "\n",
    "# Compare the following two methods for Word Sense Disambiguation:\n",
    "# - The most frequenst sense baseline (First synset)\n",
    "# - NLTK's implementation of Lesk's algorithm (nltk.wsd.lesk)\n",
    "\n",
    "# Develop two additional methods to solve this problem.\n",
    "# - One must use the idea of bootstrapping. This may require you to acquire additional texts in English.\n",
    "#   Since bootstrapping often requires you to specify knowledge about words using heuristics or by\n",
    "#   specifying a seed set, be sure that your method to start the bootstrapping process covers at least\n",
    "#   five different lexical items for which you are performing WSD.\n",
    "# - Any other method of your design. The two methods must be entirely different\n",
    "\n",
    "# Justify decisions about any other parameters to the algorithms, such as what exactly to include\n",
    "#   in the sense and context representations, how to compute overlap, the use of the development set,\n",
    "#   which the started code will load for you.\n",
    "\n",
    "# You may use any heauristic, probabilistic model or any other statistical method that we have discussed\n",
    "#   in class.\n",
    "\n",
    "# Evaluation metric: Accuracy"
   ]
  },
  {
   "cell_type": "code",
   "execution_count": 4,
   "metadata": {},
   "outputs": [
    {
     "name": "stdout",
     "output_type": "stream",
     "text": [
      "dog.n.01\n",
      "a member of the genus Canis (probably descended from the common wolf) that has been domesticated by man since prehistoric times; occurs in many breeds\n",
      "\n",
      "frump.n.01\n",
      "a dull unattractive unpleasant girl or woman\n",
      "\n",
      "dog.n.03\n",
      "informal term for a man\n",
      "\n",
      "cad.n.01\n",
      "someone who is morally reprehensible\n",
      "\n",
      "frank.n.02\n",
      "a smooth-textured sausage of minced beef or pork usually smoked; often served on a bread roll\n",
      "\n",
      "pawl.n.01\n",
      "a hinged catch that fits into a notch of a ratchet to move a wheel forward or prevent it from moving backward\n",
      "\n",
      "andiron.n.01\n",
      "metal supports for logs in a fireplace\n",
      "\n",
      "chase.v.01\n",
      "go after with the intent to catch\n",
      "\n"
     ]
    }
   ],
   "source": [
    "for synset in wn.synsets('dog'):\n",
    "    print(synset.name())\n",
    "    print(synset.definition(), end='\\n\\n')"
   ]
  },
  {
   "cell_type": "code",
   "execution_count": null,
   "metadata": {},
   "outputs": [],
   "source": []
  }
 ],
 "metadata": {
  "kernelspec": {
   "display_name": "comp550 (venv)",
   "language": "python",
   "name": "comp550"
  },
  "language_info": {
   "codemirror_mode": {
    "name": "ipython",
    "version": 3
   },
   "file_extension": ".py",
   "mimetype": "text/x-python",
   "name": "python",
   "nbconvert_exporter": "python",
   "pygments_lexer": "ipython3",
   "version": "3.7.6"
  }
 },
 "nbformat": 4,
 "nbformat_minor": 4
}
